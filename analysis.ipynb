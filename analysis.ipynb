{
 "cells": [
  {
   "cell_type": "markdown",
   "metadata": {},
   "source": [
    "## One time"
   ]
  },
  {
   "cell_type": "code",
   "execution_count": null,
   "metadata": {},
   "outputs": [],
   "source": [
    "%pip install google_spreadsheet\n",
    "%pip install google-auth-oauthlib\n",
    "%pip install pandas"
   ]
  },
  {
   "cell_type": "markdown",
   "metadata": {},
   "source": [
    "## Download data"
   ]
  },
  {
   "cell_type": "markdown",
   "metadata": {},
   "source": [
    "Windows ghseet id: GSHEET_ID\n",
    "\n",
    "Mac gheest id: GSHEET_ID"
   ]
  },
  {
   "cell_type": "code",
   "execution_count": 81,
   "metadata": {},
   "outputs": [],
   "source": [
    "import pandas as pd\n",
    "from googleapiclient.discovery import build\n",
    "from google_auth_oauthlib.flow import InstalledAppFlow,Flow\n",
    "from google.auth.transport.requests import Request\n",
    "import os\n",
    "import pickle\n",
    "\n",
    "SCOPES = ['https://www.googleapis.com/auth/spreadsheets']\n",
    "\n",
    "\n",
    "def download(spreadhseetId, rangeName):\n",
    "    global values_input, service\n",
    "    creds = None\n",
    "    if os.path.exists('token.pickle'):\n",
    "        with open('token.pickle', 'rb') as token:\n",
    "            creds = pickle.load(token)\n",
    "    if not creds or not creds.valid:\n",
    "        if creds and creds.expired and creds.refresh_token:\n",
    "            creds.refresh(Request())\n",
    "        else:\n",
    "            flow = InstalledAppFlow.from_client_secrets_file(\n",
    "                'client_secret_269207949965-otm96920haoqo8hnmp97c7d8atjm2hfg.apps.googleusercontent.com.json', SCOPES)\n",
    "            creds = flow.run_local_server(port=0)\n",
    "        with open('token.pickle', 'wb') as token:\n",
    "            pickle.dump(creds, token)\n",
    "\n",
    "    service = build('sheets', 'v4', credentials=creds)\n",
    "\n",
    "    # Call the Sheets API\n",
    "    sheet = service.spreadsheets()\n",
    "    result_input = sheet.values().get(spreadsheetId=spreadhseetId,\n",
    "                                range=rangeName).execute()\n",
    "    values_input = result_input.get('values', [])\n",
    "\n",
    "    if not values_input:\n",
    "        print('No data found.')\n",
    "    return pd.DataFrame(values_input[1:], columns=values_input[0])"
   ]
  },
  {
   "cell_type": "code",
   "execution_count": null,
   "metadata": {},
   "outputs": [],
   "source": [
    "mac_df = download(\"DOC_ID\", \"ROWS_AND_COLUMNS\")\n",
    "mac_df.head()"
   ]
  },
  {
   "cell_type": "code",
   "execution_count": 44,
   "metadata": {},
   "outputs": [],
   "source": [
    "mac_data = {}\n",
    "for sheet in [\"PrivacyTests\", \"BrowserLeaks\", \"Privacy Test Pages (DDG)\"]:\n",
    "    mac_data[sheet] = download(\"DOC_ID\", sheet + \"ROWS_AND_COLUMNS\")"
   ]
  },
  {
   "cell_type": "code",
   "execution_count": 45,
   "metadata": {},
   "outputs": [],
   "source": [
    "win_data = {}\n",
    "for sheet in [\"PrivacyTests\", \"BrowserLeaks\", \"Privacy Test Pages (DDG)\"]:\n",
    "    win_data[sheet] = download(\"DOC_ID\", sheet + \"ROWS_AND_COLUMNS\")"
   ]
  },
  {
   "cell_type": "markdown",
   "metadata": {},
   "source": [
    "## Unification"
   ]
  },
  {
   "cell_type": "code",
   "execution_count": null,
   "metadata": {},
   "outputs": [],
   "source": [
    "# Initialize the mega dataframe\n",
    "mega_df = pd.DataFrame(columns=[\"sheet\", \"test\", \"os\", \"browser\", \"result\"])\n",
    "\n",
    "# Iterate through mac_data\n",
    "for sheet in mac_data:\n",
    "    for _, row in mac_data[sheet].iterrows():\n",
    "        # if majority of row is string \"N/A\", skip\n",
    "        if row.isin([\"N/A\"]).sum() > 7:\n",
    "            continue\n",
    "        for browser in mac_data[sheet].columns:\n",
    "            new_row = pd.DataFrame([{\n",
    "                \"sheet\": sheet,\n",
    "                \"test\": row[0], # assuming 'test' is a column in your mac_data DataFrames\n",
    "                \"os\": \"mac\",\n",
    "                \"browser\": browser,\n",
    "                \"result\": row[browser]\n",
    "            }])\n",
    "            mega_df = pd.concat([mega_df, new_row], ignore_index=True)\n",
    "\n",
    "# Iterate through win_data\n",
    "for sheet in win_data:\n",
    "    for _, row in win_data[sheet].iterrows():\n",
    "        # if majority of row is N/A, skip\n",
    "        if row.isin([\"N/A\"]).sum() > 7:\n",
    "            continue\n",
    "        for browser in win_data[sheet].columns:\n",
    "            new_row = pd.DataFrame([{\n",
    "                \"sheet\": sheet,\n",
    "                \"test\": row[0], # assuming 'test' is a column in your win_data DataFrames\n",
    "                \"os\": \"win\",\n",
    "                \"browser\": browser,\n",
    "                \"result\": row[browser]\n",
    "            }])\n",
    "            mega_df = pd.concat([mega_df, new_row], ignore_index=True)\n",
    "\n",
    "# Display the first few rows of mega_df\n",
    "print(mega_df.head())"
   ]
  },
  {
   "cell_type": "code",
   "execution_count": null,
   "metadata": {},
   "outputs": [],
   "source": [
    "# remove rows with browser not in Brave, Chrome, Chromium, DuckDuckGo, Edge, Epicm Libre Wolf, Opera, Firefox, Safari, Tor, Vivaldi, or Waterfox\n",
    "\n",
    "mega_df = mega_df[mega_df['browser'].isin(['Brave', 'Chrome', 'Chromium', 'DuckDuckGo', 'Edge', 'Epic', 'Libre Wolf', 'Opera', 'Firefox', 'Safari', 'Tor', 'Vivaldi', 'Yandex', 'Waterfox'])]\n",
    "mega_df.head()"
   ]
  },
  {
   "cell_type": "code",
   "execution_count": null,
   "metadata": {},
   "outputs": [],
   "source": [
    "# remove rows with result None\n",
    "\n",
    "mega_df = mega_df[mega_df['result'].notna()]\n",
    "mega_df.head()"
   ]
  },
  {
   "cell_type": "code",
   "execution_count": null,
   "metadata": {},
   "outputs": [],
   "source": [
    "mega_df['test'].str.startswith('~')"
   ]
  },
  {
   "cell_type": "code",
   "execution_count": 50,
   "metadata": {},
   "outputs": [],
   "source": [
    "# remove rows where test starts with ~, these differentiate tests with the same name\n",
    "\n",
    "mega_df = mega_df[~mega_df['test'].str.startswith('~')]"
   ]
  },
  {
   "cell_type": "markdown",
   "metadata": {},
   "source": [
    "## Replace values"
   ]
  },
  {
   "cell_type": "code",
   "execution_count": null,
   "metadata": {},
   "outputs": [],
   "source": [
    "mega_df[\"result\"].value_counts()"
   ]
  },
  {
   "cell_type": "code",
   "execution_count": null,
   "metadata": {},
   "outputs": [],
   "source": [
    "# replace ✘, x with 0, and ✓ with 1\n",
    "\n",
    "mega_df[\"result\"] = mega_df[\"result\"].replace(\"✘\", 0)\n",
    "mega_df[\"result\"] = mega_df[\"result\"].replace(\"x\", 0)\n",
    "mega_df[\"result\"] = mega_df[\"result\"].replace(\"✓\", 1)\n",
    "mega_df[\"result\"].value_counts()"
   ]
  },
  {
   "cell_type": "markdown",
   "metadata": {},
   "source": [
    "## Group by Category"
   ]
  },
  {
   "cell_type": "markdown",
   "metadata": {},
   "source": [
    "### Reporting and Analytics"
   ]
  },
  {
   "cell_type": "code",
   "execution_count": null,
   "metadata": {},
   "outputs": [],
   "source": [
    "reporting_and_analytics = [\n",
    "    \"Google Analytics\",\n",
    "    \"Google Tag Manager\",\n",
    "    \"Chartbeat\",\n",
    "    \"New Relic\",\n",
    "    \"Quantcast\",\n",
    "    \"Scorecard Research Beacon\"\n",
    "]\n",
    "\n",
    "reporting_df = mega_df[mega_df[\"test\"].isin(reporting_and_analytics)]\n",
    "reporting_df.head()"
   ]
  },
  {
   "cell_type": "code",
   "execution_count": null,
   "metadata": {},
   "outputs": [],
   "source": [
    "reporting_df[\"result\"].value_counts()"
   ]
  },
  {
   "cell_type": "code",
   "execution_count": 55,
   "metadata": {},
   "outputs": [],
   "source": [
    "# remove empty rows\n",
    "\n",
    "reporting_df = reporting_df[reporting_df[\"result\"] != \"\"]"
   ]
  },
  {
   "cell_type": "code",
   "execution_count": null,
   "metadata": {},
   "outputs": [],
   "source": [
    "# get average by browser and os for each test\n",
    "\n",
    "reporting_df[['browser', 'os', 'result']].groupby(['browser', 'os']).mean()"
   ]
  },
  {
   "cell_type": "markdown",
   "metadata": {},
   "source": [
    "### Behavioral Profiling"
   ]
  },
  {
   "cell_type": "code",
   "execution_count": null,
   "metadata": {},
   "outputs": [],
   "source": [
    "behavioral_profiling = [\n",
    "    \"cookie (HTTP)\",\n",
    "    \"cookie (JS)\",\n",
    "    \"localStorage\",\n",
    "    \"indexedDB\",\n",
    "    \"ServiceWorker\",\n",
    "    \"fetch cache\",\n",
    "    \"document.referrer\",\n",
    "    \"sessionStorage\",\n",
    "    \"window.name\",\n",
    "    \"Permissions API\",\n",
    "    \"Geolocation API\",\n",
    "    \"Geolocation\",\n",
    "    \"Local storage\",\n",
    "    \"Client hints\",\n",
    "    \"DNS Leak Test\",\n",
    "    \"IPv6 Leak Test\",\n",
    "    \"Leaks of extension IDs via CSP\",\n",
    "    \"Request blocking\",\n",
    "    \"Storage partitioning test\",\n",
    "\n",
    "]\n",
    "\n",
    "# set max rows to 500 in pandas\n",
    "pd.set_option('display.max_rows', 500)\n",
    "\n",
    "behav_df = mega_df[mega_df[\"test\"].isin(behavioral_profiling)]\n",
    "\n",
    "\n",
    "behav_df[['test','result']].value_counts()"
   ]
  },
  {
   "cell_type": "code",
   "execution_count": null,
   "metadata": {},
   "outputs": [],
   "source": [
    "# if / in result, evaluate ratio of x/y\n",
    "\n",
    "\n",
    "def compute_ratio(x):\n",
    "    if type(x) != str:\n",
    "        return x\n",
    "    if x != \"N/A\" and \"/\" in x and 'pass' not in x:\n",
    "        x = x.split(\"/\")\n",
    "        x = int(x[0]) / int(x[1])\n",
    "    return x\n",
    "\n",
    "behav_df[\"result\"] = behav_df[\"result\"].apply(compute_ratio)\n",
    "behav_df[\"result\"].value_counts()\n",
    "\n",
    "\n",
    "# N/A fail for Epic, pass for Waterfox\n",
    "\n",
    "replace = {\n",
    "    \"7 missing\": 7/38,\n",
    "    \"6/21 pass\": 6/21,\n",
    "    \"6/37 missing; 1 empty\": 7/38,\n",
    "    \"1/23 blocked\": 1/23,\n",
    "    \"1/21 blocked\": 1/21,\n",
    "    \"2/21 blocked\": 2/21,\n",
    "    \"1/22 blocked\": 1/21,\n",
    "    \"not functional\": 0,\n",
    "    '-': 1\n",
    "}\n",
    "\n",
    "for key in replace:\n",
    "    behav_df[\"result\"] = behav_df[\"result\"].replace(key, replace[key])\n",
    "\n",
    "# if empty, delete row\n",
    "\n",
    "behav_df = behav_df[behav_df[\"result\"] != \"\"]\n",
    "\n",
    "# if \"N/A\" and browser is Epic, fail, else pass\n",
    "\n",
    "def compute_epic(x):\n",
    "    if x[\"browser\"] == \"Epic\" and x[\"result\"] == \"N/A\":\n",
    "        return 0\n",
    "    elif x[\"browser\"] == \"Waterfox\" and x[\"result\"] == \"N/A\":\n",
    "        return 1\n",
    "    return x[\"result\"]\n",
    "\n",
    "# apply compute epic\n",
    "behav_df[\"result\"] = behav_df.apply(compute_epic, axis=1)\n",
    "\n",
    "behav_df['result'].value_counts()"
   ]
  },
  {
   "cell_type": "code",
   "execution_count": null,
   "metadata": {},
   "outputs": [],
   "source": [
    "# create new df with tests in HTML5 Features Detection CSS Features Detection Graphics Features Detection Storage Features Detection ECMAScript Features Detection Network Features Detection Miscellaneous\n",
    "\n",
    "features_df = mega_df[mega_df[\"test\"].isin([\"HTML5 Features Detection\", \"CSS Features Detection\", \"Graphics Features Detection\", \"Storage Features Detection\", \"ECMAScript Features Detection\", \"Network Features Detection\", \"Miscellaneous\"])]\n",
    "features_df.head()\n",
    "\n",
    "# if only 1 \"/\" in result, evaluate ratio of x/y\n",
    "\n",
    "def compute_ratio(x):\n",
    "    if type(x) != str:\n",
    "        return x\n",
    "    if x.count(\"/\") == 1:\n",
    "        x = x.split(\"/\")\n",
    "        x = int(x[0]) / int(x[1])\n",
    "    return x\n",
    "\n",
    "# apply compute ratio\n",
    "features_df[\"result\"] = features_df[\"result\"].apply(compute_ratio)\n",
    "\n",
    "# if test is HTML5 Features Detection, then split on \"/\" and calculate ((w) + (.66*y) + (.33*z))/90 for w/x/y/z\n",
    "\n",
    "def compute_html5(x):\n",
    "    if x[\"test\"] == \"HTML5 Features Detection\":\n",
    "        if x[\"result\"] == \"\":\n",
    "            return x\n",
    "        y = x[\"result\"].split(\"/\")\n",
    "        x[\"result\"] = (int(y[0]) + (.66 * int(y[1])) + (.33 * int(y[2]))) / 90\n",
    "    return x\n",
    "\n",
    "# apply compute html5\n",
    "features_df = features_df.apply(compute_html5, axis=1)\n",
    "# drop rows with result \"\"\n",
    "features_df = features_df[features_df[\"result\"] != \"\"]\n",
    "\n",
    "#convert result to float\n",
    "features_df[\"result\"] = features_df[\"result\"].astype(float)\n",
    "\n",
    "# now average test scores by browser and os\n",
    "\n",
    "rez_df = features_df[['browser', 'os', 'result']].groupby(['browser', 'os']).mean()\n",
    "\n",
    "# add rez_df as a test called features to behav_df\n",
    "\n",
    "rez_df_reset = rez_df.reset_index().rename(columns={\"result\": \"result\"}).assign(test=\"features\")\n",
    "behav_df = pd.concat([behav_df, rez_df_reset], ignore_index=True)"
   ]
  },
  {
   "cell_type": "code",
   "execution_count": 61,
   "metadata": {},
   "outputs": [],
   "source": [
    "# convert behav result to float\n",
    "\n",
    "behav_df[\"result\"] = behav_df[\"result\"].astype(float)"
   ]
  },
  {
   "cell_type": "code",
   "execution_count": null,
   "metadata": {},
   "outputs": [],
   "source": [
    "behav_df[behav_df[\"result\"] == \"-\"]"
   ]
  },
  {
   "cell_type": "code",
   "execution_count": null,
   "metadata": {},
   "outputs": [],
   "source": [
    "behav_df[['browser', 'os', 'result']].groupby(['browser', 'os']).mean()"
   ]
  },
  {
   "cell_type": "markdown",
   "metadata": {},
   "source": [
    "cookie (HTTP) cookie (JS) indexedDB localStorage ServiceWorker"
   ]
  },
  {
   "cell_type": "markdown",
   "metadata": {},
   "source": [
    "### Targeted Advertisements"
   ]
  },
  {
   "cell_type": "code",
   "execution_count": null,
   "metadata": {},
   "outputs": [],
   "source": [
    "targeted_ads = [\n",
    "    \"Adobe\",\n",
    "    \"Adobe Audience Manager\",\n",
    "    \"Amazon adsystem\",\n",
    "    \"AppNexus\",\n",
    "    \"Bing Ads\",\n",
    "    \"Criteo\",\n",
    "    \"DoubleClick (Google)\",\n",
    "    \"Facebook tracking\",\n",
    "    \"Google (third-party ad pixel)\",\n",
    "    \"Google Tag Manager\",\n",
    "    \"Index Exchange\",\n",
    "    \"Taboola\",\n",
    "    \"Twitter pixel\",\n",
    "    \"Yandex Ads\",\n",
    "    \"__hsfp\",\n",
    "    \"__hssc\",\n",
    "    \"__hstc\",\n",
    "    \"__s\",\n",
    "    \"_hsenc\",\n",
    "    \"_openstat\",\n",
    "    \"dclid\",\n",
    "    \"fbclid\",\n",
    "    \"gclid\",\n",
    "    \"hsCtaTracking\",\n",
    "    \"mc_eid\",\n",
    "    \"mkt_tok\",\n",
    "    \"ml_subscriber\",\n",
    "    \"ml_subscriber_hash\",\n",
    "    \"msclkid\",\n",
    "    \"oly_anon_id\",\n",
    "    \"oly_enc_id\",\n",
    "    \"rb_clickid\",\n",
    "    \"s_cid\",\n",
    "    \"vero_conc\",\n",
    "    \"wickedid\",\n",
    "    \"yclid\",\n",
    "    \"Facebook click to load\",\n",
    "    \"Youtube click to load\",\n",
    "    \"Query parameters\"\n",
    "]\n",
    "\n",
    "ads_df = mega_df[mega_df[\"test\"].isin(targeted_ads)]\n",
    "\n",
    "ads_df['result'].value_counts()"
   ]
  },
  {
   "cell_type": "code",
   "execution_count": 65,
   "metadata": {},
   "outputs": [],
   "source": [
    "# remove empty rows\n",
    "\n",
    "ads_df = ads_df[ads_df[\"result\"] != \"\"]"
   ]
  },
  {
   "cell_type": "code",
   "execution_count": null,
   "metadata": {},
   "outputs": [],
   "source": [
    "# replace \"1/4 pass\" with 0.25\n",
    "\n",
    "ads_df[\"result\"] = ads_df[\"result\"].replace(\"1/4 pass\", 0.25)\n",
    "ads_df[\"result\"].value_counts()"
   ]
  },
  {
   "cell_type": "code",
   "execution_count": null,
   "metadata": {},
   "outputs": [],
   "source": [
    "ads_df[['browser', 'os', 'result']].groupby(['browser', 'os']).mean()"
   ]
  },
  {
   "cell_type": "markdown",
   "metadata": {},
   "source": [
    "### Fingerprinting"
   ]
  },
  {
   "cell_type": "code",
   "execution_count": null,
   "metadata": {},
   "outputs": [],
   "source": [
    "fingerprinting = [\n",
    "    \"Web Browser\",\n",
    "    \"Canvas Support\",\n",
    "    \"Canvas Fingerprinting\",\n",
    "    \"Font Enumeration\",\n",
    "    \"Geolocation API\",\n",
    "    \"Unicode Glyphs\",\n",
    "    \"TCP/IP Fingerpinting\",\n",
    "    \"TLS FIngerprint\",\n",
    "    \"HTTP/2 Fingerprint\",\n",
    "    \"Image File Details\",\n",
    "    \"Media query screen height\",\n",
    "    \"Media query screen width\",\n",
    "    \"outerHeight\",\n",
    "    \"screen.height\",\n",
    "    \"screen.width\",\n",
    "    \"screenX\",\n",
    "    \"screenY\",\n",
    "    \"WebGL Fingerprint\",\n",
    "    \"WebRTC Support Detection\",\n",
    "    \"WebRTC IP Address Detection\",\n",
    "    \"WebRTC Media Devices\",\n",
    "    \"Harmful APIs\",\n",
    "    \"WebGL Extensions\",\n",
    "    \"Screen Object\",\n",
    "    \"Date/Time\",\n",
    "    \"Internationalization API\",\n",
    "    \"Navigator Object\",\n",
    "    \"Navigator.userAgentdata (Client Hints)\",\n",
    "    \"navigator.plugins\",\n",
    "    \"Batery Status API\",\n",
    "    \"Network Information API\",\n",
    "    \"HTML5 Features\",\n",
    "    \"CSS Features\"\n",
    "]\n",
    "\n",
    "fp_df = mega_df[mega_df[\"test\"].isin(fingerprinting)]\n",
    "\n",
    "fp_df[['test', 'result']].value_counts()"
   ]
  },
  {
   "cell_type": "code",
   "execution_count": null,
   "metadata": {},
   "outputs": [],
   "source": [
    "# invert pass/fail WebRTC Support Detection\n",
    "\n",
    "for i in fp_df.iterrows():\n",
    "    x = fp_df.loc[i[0]]\n",
    "    if x[\"test\"] == \"WebRTC Support Detection\":\n",
    "        if x[\"result\"] == 1:\n",
    "            x[\"result\"] = 0\n",
    "        elif x[\"result\"] == 0:\n",
    "            x[\"result\"] = 1\n",
    "        print(f\"flipped {x['result']} for browser {x['browser']}\")\n",
    "\n",
    "# remove empty results\n",
    "fp_df = fp_df[fp_df[\"result\"] != \"\"]\n",
    "fp_df[\"result\"] = fp_df[\"result\"].replace(\"1/3 passed\", 1/3)\n",
    "\n",
    "# apply compute\n",
    "fp_df[\"result\"].value_counts()"
   ]
  },
  {
   "cell_type": "code",
   "execution_count": null,
   "metadata": {},
   "outputs": [],
   "source": [
    "# print test where result is N/A\n",
    "fp_df[fp_df[\"result\"] == \"N/A\"]"
   ]
  },
  {
   "cell_type": "code",
   "execution_count": null,
   "metadata": {},
   "outputs": [],
   "source": [
    "# if result ends in unavailable, take the first word and compute the ratio, it is of form \"x/y unavailable\"\n",
    "\n",
    "def compute_ratio(x):\n",
    "    if type(x) != str:\n",
    "        return x\n",
    "    if \"/\" in x:\n",
    "        x, y = x.split(\"/\")[0], x.split(\"/\")[1]\n",
    "        return eval(x)/eval(y)\n",
    "    return x\n",
    "# replace not supported with 1, - with 1 , and \"N/A\" with 1\n",
    "\n",
    "fp_df[\"result\"] = fp_df[\"result\"].replace(\"Not Supported\", 1)\n",
    "fp_df[\"result\"] = fp_df[\"result\"].replace(\"-\", 1)\n",
    "fp_df[\"result\"] = fp_df[\"result\"].replace(\"N/A\", 1)\n",
    "\n",
    "fp_df[\"result\"] = fp_df[\"result\"].apply(compute_ratio)\n",
    "fp_df[\"result\"].value_counts()"
   ]
  },
  {
   "cell_type": "code",
   "execution_count": 72,
   "metadata": {},
   "outputs": [],
   "source": [
    "fp_protections = {\n",
    "    \"Brave\": 1,\n",
    "    \"Chrome\": 0,\n",
    "    \"Chromium\": 0,\n",
    "    \"DuckDuckGo\": 1,\n",
    "    \"Edge\": 0,\n",
    "    \"Epic\": 0.5,\n",
    "    \"Firefox\": 1,\n",
    "    \"Libre Wolf\": 0.5,\n",
    "    \"Opera\": 0,\n",
    "    \"Safari\": 1,\n",
    "    \"Tor\": 1,\n",
    "    \"Vivaldi\": 0.5,\n",
    "    \"Yandex\": 0,\n",
    "    \"Waterfox\": 0\n",
    "}"
   ]
  },
  {
   "cell_type": "code",
   "execution_count": null,
   "metadata": {},
   "outputs": [],
   "source": [
    "# take mean of fp_df like this fp_df[['browser', 'os', 'result']].groupby(['browser', 'os']).mean() but use .75 times fp_protections plus .25 times mean of fp_protections is 1\n",
    "# .5 times mean of fp_protections is .5, and 0 times mean of fp_protections is 0.5\n",
    "# and 0.25 times fp_protections plus .75 times mean of fp_protections is 0\n",
    "\n",
    "# make sure all results are floats\n",
    "fp_df[\"result\"] = fp_df[\"result\"].astype(float)\n",
    "fp_means = fp_df[['browser', 'os', 'result']].groupby(['browser', 'os']).mean()\n",
    "\n",
    "fp_results = pd.DataFrame(columns=[\"browser\", \"os\", \"result\"])\n",
    "\n",
    "for browser, score in fp_protections.items():\n",
    "    if score == 1:\n",
    "        final_score = (0.75 * score) + (0.25 * fp_means.loc[browser])\n",
    "        for os in [\"win\", \"mac\"]:\n",
    "            if os == \"win\" and browser == \"Safari\":\n",
    "                continue\n",
    "            fp_results = pd.concat([fp_results, pd.DataFrame([{\n",
    "                \"browser\": browser,\n",
    "                \"os\": os,\n",
    "                \"result\": final_score[\"result\"][os]\n",
    "            }])], ignore_index=True)\n",
    "    elif score == 0.5:\n",
    "        final_score = (0.5 * score) + (0.5 * fp_means.loc[browser])\n",
    "        for os in [\"win\", \"mac\"]:\n",
    "            if os == \"win\" and browser == \"Safari\":\n",
    "                continue\n",
    "            fp_results = pd.concat([fp_results, pd.DataFrame([{\n",
    "                \"browser\": browser,\n",
    "                \"os\": os,\n",
    "                \"result\": final_score[\"result\"][os]\n",
    "            }])], ignore_index=True)\n",
    "    else:\n",
    "        final_score = (0.25 * score) + (0.75 * fp_means.loc[browser])\n",
    "        for os in [\"win\", \"mac\"]:\n",
    "            if os == \"win\" and browser == \"Safari\":\n",
    "                continue\n",
    "            fp_results = pd.concat([fp_results, pd.DataFrame([{\n",
    "                \"browser\": browser,\n",
    "                \"os\": os,\n",
    "                \"result\": final_score[\"result\"][os]\n",
    "            }])], ignore_index=True)\n",
    "\n",
    "fp_results"
   ]
  },
  {
   "cell_type": "code",
   "execution_count": null,
   "metadata": {},
   "outputs": [],
   "source": [
    "# concatenate fp_df, ads_df, reporting_df, behav_df\n",
    "\n",
    "tests_final_df = pd.concat([fp_df, ads_df, reporting_df, behav_df], ignore_index=True)\n",
    "\n",
    "tests_final_df\n"
   ]
  },
  {
   "cell_type": "code",
   "execution_count": 75,
   "metadata": {},
   "outputs": [],
   "source": [
    "# behav using values 0.78\t0.79\t0.58\t0.56\t0.58\t0.60\t0.44\t0.88\t0.42\t0.56\t0.65\t0.40\t0.78\t0.83\t0.79\t0.83\t0.39\t0.41\t0.84\t0.84\t0.83\t0.40\t0.41\t0.39\t0.40\t0.78\t0.83\n",
    "behav = [0.78,\t0.79,\t0.58,\t0.56,\t0.58,\t0.60,\t0.44,\t0.88,\t0.42,\t0.56,\t0.65,\t0.40,\t0.78,\t0.83,\t0.79,\t0.83,\t0.39,\t0.41,\t0.84,\t0.84,\t0.83,\t0.40,\t0.41,\t0.39,\t0.40,\t0.78,\t0.83]\n",
    "\n",
    "fp = [0.85,\t0.86,\t0.14,\t0.12,\t0.16,\t0.12,\t0.81,\t0.83,\t0.16,\t0.13,\t0.32,\t0.35,\t0.82,\t0.82,\t0.48,\t0.51,\t0.16,\t0.15,\t0.82,\t0.86,\t0.90,\t0.36,\t0.33,\t0.16,\t0.13,\t0.20,\t0.27]\n",
    "ads = [0.93,\t0.93,\t0.01,\t0.01,\t0.01,\t0.01,\t0.37,\t0.49,\t0.01,\t0.01,\t0.03,\t0.01,\t0.01,\t0.01,\t1.00,\t1.00,\t0.01,\t0.01,\t0.01,\t0.03,\t0.47,\t0.01,\t0.01,\t0.01,\t0.01,\t0.01,\t0.01]\n",
    "report = [0.93,\t0.93,\t0.01,\t0.01,\t0.01,\t0.01,\t0.37,\t0.49,\t0.01,\t0.01,\t0.03,\t0.01,\t0.01,\t0.01,\t1.00,\t1.00,\t0.01,\t0.01,\t0.01,\t0.03,\t0.47,\t0.01,\t0.01,\t0.01,\t0.01,\t0.01,\t0.01]"
   ]
  },
  {
   "cell_type": "code",
   "execution_count": null,
   "metadata": {},
   "outputs": [],
   "source": [
    "import numpy as np\n",
    "import pandas as pd\n",
    "\n",
    "# min max scale each list\n",
    "def min_max_scale(x):\n",
    "    x = np.array(x)\n",
    "    return (x - min(x)) / (max(x) - min(x))\n",
    "\n",
    "behav = min_max_scale(behav)\n",
    "fp = min_max_scale(fp)\n",
    "ads = min_max_scale(ads)\n",
    "report = min_max_scale(report)\n",
    "\n",
    "# take mean by index of four list, so average of first element of each list, ...\n",
    "\n",
    "final = []\n",
    "for i in range(len(behav)):\n",
    "    final.append((behav[i] + fp[i] + ads[i] + report[i]) / 4)\n",
    "\n",
    "final\n",
    "\n",
    "#associate with each browser and os by index in the order 'Brave' (win, macos), 'Chrome' (win,macos), 'Chromium', 'DuckDuckGo', 'Edge', 'Epic', 'Libre Wolf', 'Opera', 'Firefox', 'Safari', 'Tor', 'Vivaldi', 'Yandex', 'Waterfox' alternating win and macos, with win first\n",
    "\n",
    "final_df = pd.DataFrame(final, columns=[\"result\"])\n",
    "\n",
    "final_df[\"browser\"] = [\"Brave\", \"Brave\", \"Chrome\", \"Chrome\", \"Chromium\", \"Chromium\", \"DuckDuckGo\", \"DuckDuckGo\", \"Edge\", \"Edge\", \"Epic\", \"Epic\",\"Firefox\", \"Firefox\", \"Libre Wolf\", \"Libre Wolf\", \"Opera\", \"Opera\",   \"Safari\", \"Tor\", \"Tor\", \"Vivaldi\", \"Vivaldi\", \"Yandex\", \"Yandex\", \"Waterfox\", \"Waterfox\"]\n",
    "# os column, W11\tMacOS\tW11\tMacOS\tW11\tMacOS\tW11\tMacOS\tW11\tMacOS\tW11\tMacOS\tW11\tMacOS\tW11\tMacOS\tW11\tMacOS\tW11\tMacOS\tW11\tMacOS\tW11\tMacOS\tW11\tMacOS\tW11\tMacOS\n",
    "final_df[\"os\"] = [\"W11\",\t\"MacOS\", \"W11\",\t\"MacOS\", \"W11\",\t\"MacOS\",\t\"W11\",\t\"MacOS\",\t\"W11\",\t\"MacOS\",\t\"W11\",\t\"MacOS\",\t\"W11\",\t\"MacOS\",\t\"W11\",\t\"MacOS\",\t\"W11\",\t\"MacOS\",\t\"MacOS\",\t\"W11\",\t\"MacOS\",\t\"W11\",\t\"MacOS\",\t\"W11\",\t\"MacOS\",\t\"W11\",\t\"MacOS\"]\n",
    "\n",
    "final_df\n",
    "    "
   ]
  },
  {
   "cell_type": "code",
   "execution_count": null,
   "metadata": {},
   "outputs": [],
   "source": [
    "!pip install jenkspy"
   ]
  },
  {
   "cell_type": "code",
   "execution_count": null,
   "metadata": {},
   "outputs": [],
   "source": [
    "import jenkspy\n",
    "\n",
    "# get breaks in results and categories the browser + os combos based on the cutoffs\n",
    "\n",
    "breaks = jenkspy.jenks_breaks(final_df[\"result\"], n_classes=3)\n",
    "print(breaks)\n",
    "\n",
    "def categorize(x):\n",
    "    if x <= breaks[1]:\n",
    "        return \"low\"\n",
    "    elif x <= breaks[2]:\n",
    "        return \"medium\"\n",
    "    else:\n",
    "        return \"high\"\n",
    "\n",
    "final_df[\"category\"] = final_df[\"result\"].apply(categorize)\n",
    "final_df"
   ]
  },
  {
   "cell_type": "code",
   "execution_count": null,
   "metadata": {},
   "outputs": [],
   "source": [
    "!pip install matplotlib"
   ]
  },
  {
   "cell_type": "code",
   "execution_count": 82,
   "metadata": {},
   "outputs": [],
   "source": [
    "avg_df = final_df.groupby('browser')['result'].mean().reset_index()"
   ]
  },
  {
   "cell_type": "code",
   "execution_count": null,
   "metadata": {},
   "outputs": [],
   "source": [
    "# generate number line with intervals highlighted red, yellow, green\n",
    "import matplotlib.pyplot as plt\n",
    "\n",
    "cutoffs = [0.22462061747776033, 0.4768723340151911]\n",
    "\n",
    "fig, ax = plt.subplots(figsize=(10, 4))\n",
    "colors = [\"red\", \"yellow\", \"green\"]\n",
    "\n",
    "# Highlight the intervals\n",
    "for i in range(len(cutoffs) + 1):\n",
    "    left = cutoffs[i - 1] if i != 0 else -0.05\n",
    "    right = cutoffs[i] if i != len(cutoffs) else 1\n",
    "    print(left, right)\n",
    "    ax.fill_between([left, right], -0.5, 3, color=colors[i % len(colors)], alpha=0.5)\n",
    "\n",
    "spacing = .2  # This can be adjusted for more or less spacing\n",
    "y_coords = [-0.4 + i*(3/len(avg_df)) for i in range(len(avg_df))]\n",
    "for y, (_, row) in zip(y_coords, avg_df.iterrows()):\n",
    "    if pd.notna(row['result']):\n",
    "        ax.text(row['result'], y, row['browser'], ha='center', va='center')\n",
    "\n",
    "# Customize axis\n",
    "ax.set_yticks([])\n",
    "ax.set_xlim(avg_df['result'].min() - 0.05, avg_df['result'].max() + 0.05)  # Small buffer around limits\n",
    "ax.set_ylim(-0.5, 3)\n",
    "ax.set_xlabel('Composite Score')\n",
    "\n",
    "\n",
    "plt.tight_layout()\n",
    "plt.show()\n"
   ]
  },
  {
   "cell_type": "code",
   "execution_count": null,
   "metadata": {},
   "outputs": [],
   "source": [
    "# order avg_df by result desc\n",
    "avg_df = avg_df.sort_values(by=['result'], ascending=False)\n",
    "avg_df"
   ]
  },
  {
   "cell_type": "code",
   "execution_count": null,
   "metadata": {},
   "outputs": [],
   "source": [
    "# concatenate fp_df, ads_df, reporting_df, behav_df\n",
    "\n",
    "tests_final_df = pd.concat([fp_df, ads_df, reporting_df, behav_df], ignore_index=True)\n",
    "\n",
    "tests_final_df\n"
   ]
  }
 ],
 "metadata": {
  "kernelspec": {
   "display_name": "Python 3",
   "language": "python",
   "name": "python3"
  },
  "language_info": {
   "codemirror_mode": {
    "name": "ipython",
    "version": 3
   },
   "file_extension": ".py",
   "mimetype": "text/x-python",
   "name": "python",
   "nbconvert_exporter": "python",
   "pygments_lexer": "ipython3",
   "version": "3.10.12"
  }
 },
 "nbformat": 4,
 "nbformat_minor": 2
}
